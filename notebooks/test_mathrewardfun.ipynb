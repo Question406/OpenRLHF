{
 "cells": [
  {
   "cell_type": "code",
   "execution_count": 3,
   "metadata": {},
   "outputs": [],
   "source": [
    "from openrlhf.trainer.answer_extraction import extract_answer\n",
    "from openrlhf.trainer.eval_utils import math_equal\n",
    "import json"
   ]
  },
  {
   "cell_type": "code",
   "execution_count": 4,
   "metadata": {},
   "outputs": [],
   "source": [
    "predictions = json.load(open('/Users/jiyi/Documents/2025-Projects/OpenRLHF/3rdparty/DeepSeek-Math/evaluation/outputs/DeepSeekMath-Instruct/gsm8k-test/results/cot/predictions.json'))"
   ]
  },
  {
   "cell_type": "code",
   "execution_count": 10,
   "metadata": {},
   "outputs": [
    {
     "name": "stdout",
     "output_type": "stream",
     "text": [
      "60\n"
     ]
    }
   ],
   "source": [
    "idx = 0\n",
    "print(extract_answer(predictions[idx]['model_output']))"
   ]
  },
  {
   "cell_type": "code",
   "execution_count": 14,
   "metadata": {},
   "outputs": [
    {
     "data": {
      "text/plain": [
       "'60'"
      ]
     },
     "execution_count": 14,
     "metadata": {},
     "output_type": "execute_result"
    }
   ],
   "source": [
    "predictions[idx]['answer']"
   ]
  },
  {
   "cell_type": "code",
   "execution_count": 16,
   "metadata": {},
   "outputs": [
    {
     "data": {
      "text/plain": [
       "True"
      ]
     },
     "execution_count": 16,
     "metadata": {},
     "output_type": "execute_result"
    }
   ],
   "source": [
    "math_equal(\n",
    "    extract_answer(predictions[idx]['model_output']),\n",
    "    predictions[idx]['answer']\n",
    ")"
   ]
  },
  {
   "cell_type": "code",
   "execution_count": 17,
   "metadata": {},
   "outputs": [],
   "source": [
    "tmp = json.load(open(\n",
    "    '/Users/jiyi/Documents/2025-Projects/OpenRLHF/3rdparty/math/raw_MATH/train/precalculus/2.json'\n",
    "))"
   ]
  },
  {
   "cell_type": "code",
   "execution_count": 18,
   "metadata": {},
   "outputs": [
    {
     "data": {
      "text/plain": [
       "'(0,-6,-4)'"
      ]
     },
     "execution_count": 18,
     "metadata": {},
     "output_type": "execute_result"
    }
   ],
   "source": [
    "extract_answer(tmp['solution'])"
   ]
  },
  {
   "cell_type": "code",
   "execution_count": 19,
   "metadata": {},
   "outputs": [
    {
     "name": "stdout",
     "output_type": "stream",
     "text": [
      "Let\n",
      "\\[\\bold{A} = \\begin{pmatrix} 0 & 1 & 2 \\\\ 1 & 0 & 1 \\\\ 2 & 1 & 0 \\end{pmatrix}.\\]There exist constants $p$, $q$, and $r$ such that\n",
      "\\[\\bold{A}^3 + p \\bold{A}^2 + q \\bold{A} + r \\bold{I} = \\bold{0},\\]where $\\bold{I}$ and $\\bold{0}$ are the $3 \\times 3$ identity matrix and zero matrix, respectively.  Enter the ordered triple $(p,q,r).$\n"
     ]
    }
   ],
   "source": [
    "print(tmp['problem'])"
   ]
  },
  {
   "cell_type": "code",
   "execution_count": 22,
   "metadata": {},
   "outputs": [
    {
     "name": "stdout",
     "output_type": "stream",
     "text": [
      "\\begin{pmatrix}1/4\\\\-7/4\\\\1/2\\end{pmatrix}\n"
     ]
    }
   ],
   "source": [
    "tmp2 = json.load(open('/Users/jiyi/Documents/2025-Projects/OpenRLHF/3rdparty/math/raw_MATH/train/precalculus/4.json'))\n",
    "print(extract_answer(tmp2['solution']))"
   ]
  }
 ],
 "metadata": {
  "kernelspec": {
   "display_name": "rlhf",
   "language": "python",
   "name": "python3"
  },
  "language_info": {
   "codemirror_mode": {
    "name": "ipython",
    "version": 3
   },
   "file_extension": ".py",
   "mimetype": "text/x-python",
   "name": "python",
   "nbconvert_exporter": "python",
   "pygments_lexer": "ipython3",
   "version": "3.12.8"
  }
 },
 "nbformat": 4,
 "nbformat_minor": 2
}
